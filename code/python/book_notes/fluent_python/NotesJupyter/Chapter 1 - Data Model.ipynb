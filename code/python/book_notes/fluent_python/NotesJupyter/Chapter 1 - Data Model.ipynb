{
 "cells": [
  {
   "cell_type": "code",
   "execution_count": 1,
   "metadata": {},
   "outputs": [],
   "source": [
    "import collections\n",
    "from random import choice\n",
    "\n",
    "# collections.namedtuple > constructs simple class to represent individual cards\n",
    "# use this to build classes of objects that are just bundles of atributes with no\n",
    "# custom methods\n",
    "\n",
    "'''\n",
    "    > collections.namedtuple > constructs simple class to represent individual cards\n",
    "    > use this to build classes of objects that are just bundles of attributes with no\n",
    "      custom methods\n",
    "'''\n",
    "Card = collections.namedtuple('Card', ['rank', 'suit'])\n",
    "\n",
    "\n",
    "class FrenchDeck:\n",
    "    ranks = [str(n) for n in range(2, 11)] + list('JQKA')\n",
    "    suits = 'spades diamonds clubs hearts'.split()\n",
    "\n",
    "    def __init__(self):\n",
    "        # generates a Card tuple using ranks / suits as the values to store.\n",
    "        self._cards = [Card(rank, suit) for suit in self.suits\n",
    "                       for rank in self.ranks]\n",
    "\n",
    "    def __len__(self):\n",
    "        return len(self._cards)\n",
    "\n",
    "    def __getitem__(self, position):\n",
    "        return self._cards[position]"
   ]
  },
  {
   "cell_type": "code",
   "execution_count": 5,
   "metadata": {
    "scrolled": true
   },
   "outputs": [
    {
     "name": "stdout",
     "output_type": "stream",
     "text": [
      "Card(rank='7', suit='diamonds')\n",
      "Card(rank='2', suit='spades')\n",
      "Card(rank='A', suit='hearts')\n",
      "random choice:  Card(rank='7', suit='hearts')\n"
     ]
    },
    {
     "data": {
      "text/plain": [
       "'\\n        > user dont memorise arbitrary names for standard operations such as .size() / .length()\\n        > benefit always from python library using random.choice function.\\n'"
      ]
     },
     "execution_count": 5,
     "metadata": {},
     "output_type": "execute_result"
    }
   ],
   "source": [
    "\n",
    "\n",
    "beerCard = Card(rank='7', suit='diamonds')\n",
    "print(beerCard)\n",
    "\n",
    "# French desk response to len()\n",
    "\n",
    "deck = FrenchDeck()\n",
    "len(deck)\n",
    "\n",
    "# read specific cards provided by __getitem__\n",
    "\n",
    "print(deck[0])\n",
    "print(deck[-1])\n",
    "\n",
    "# random instance\n",
    "print(\"random choice: \", choice(deck))\n",
    "\n",
    "'''\n",
    "        > user dont memorise arbitrary names for standard operations such as .size() / .length()\n",
    "        > benefit always from python library using random.choice function.\n",
    "'''"
   ]
  },
  {
   "cell_type": "code",
   "execution_count": null,
   "metadata": {},
   "outputs": [],
   "source": [
    "\n",
    "\n",
    "# __getitem__ delegates to [] operator of self._cards, thus our deck automatically supports slicing\n",
    "\n",
    "print(\"deck[:3]\", deck[:3])\n",
    "print(\"deck[12::13]\", deck[12::13])  # start at 12, jumps every 13\n",
    "\n",
    "# our deck is also now iterable thanks to __getitem__\n",
    "for card in deck:  # doctest: +ELLIPSIS\n",
    "    print(card)\n",
    "\n",
    "# iterate in the reverse order\n",
    "for card in reversed(deck):\n",
    "    print(card)"
   ]
  },
  {
   "cell_type": "code",
   "execution_count": 6,
   "metadata": {},
   "outputs": [
    {
     "data": {
      "text/plain": [
       "True"
      ]
     },
     "execution_count": 6,
     "metadata": {},
     "output_type": "execute_result"
    }
   ],
   "source": [
    "# Iteration often implicit, if collection has no __contains__\n",
    "# the in operator performs a sequential scan\n",
    "\n",
    "Card('Q', 'hearts') in deck # True\n",
    "Card('7', 'beasts') in deck # False"
   ]
  },
  {
   "cell_type": "code",
   "execution_count": null,
   "metadata": {},
   "outputs": [],
   "source": [
    "# Sorting\n",
    "\n",
    "# create basic key:value dict\n",
    "suit_values = dict(spades=3,hearts=2, diamonds=1, clubs=0)\n",
    "\n",
    "def spades_high(card):\n",
    "    \n",
    "    # 2 to A : 0 > 12 = rank_values based on the ranks index position\n",
    "    rank_values = FrenchDeck.ranks.index(card.rank)\n",
    "    \n",
    "    # 4 * (rank_value) + suit > spades to clubs order basically\n",
    "    return rank_values * len(suit_values) + suit_values[card.suit]\n",
    "\n",
    "# use dict as key to sort in order of increasing rank\n",
    "for card in sorted(deck, key=spades_high):\n",
    "    print(card)"
   ]
  },
  {
   "cell_type": "code",
   "execution_count": null,
   "metadata": {},
   "outputs": [],
   "source": [
    "'''\n",
    "    > French deck leverages the data model, not object\n",
    "    > By implementing special methods __len__ and __getitem__ \n",
    "      it behaves like some standard python sequence\n",
    "'''\n",
    "\n"
   ]
  }
 ],
 "metadata": {
  "kernelspec": {
   "display_name": "Python 3",
   "language": "python",
   "name": "python3"
  },
  "language_info": {
   "codemirror_mode": {
    "name": "ipython",
    "version": 3
   },
   "file_extension": ".py",
   "mimetype": "text/x-python",
   "name": "python",
   "nbconvert_exporter": "python",
   "pygments_lexer": "ipython3",
   "version": "3.8.3"
  }
 },
 "nbformat": 4,
 "nbformat_minor": 4
}
