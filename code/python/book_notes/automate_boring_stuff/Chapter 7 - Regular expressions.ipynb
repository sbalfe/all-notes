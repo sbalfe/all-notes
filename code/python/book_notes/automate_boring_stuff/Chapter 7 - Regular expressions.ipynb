{
 "cells": [
  {
   "cell_type": "code",
   "execution_count": 1,
   "metadata": {},
   "outputs": [
    {
     "name": "stdout",
     "output_type": "stream",
     "text": [
      "Call me at 4\n",
      "all me at 41\n",
      "ll me at 415\n",
      "l me at 415-\n",
      " me at 415-5\n",
      "me at 415-55\n",
      "e at 415-555\n",
      " at 415-555-\n",
      "at 415-555-1\n",
      "t 415-555-10\n",
      " 415-555-101\n",
      "415-555-1011\n",
      "Phone number found: 415-555-1011\n",
      "15-555-1011 \n",
      "5-555-1011 t\n",
      "-555-1011 to\n",
      "555-1011 tom\n",
      "55-1011 tomo\n",
      "5-1011 tomor\n",
      "-1011 tomorr\n",
      "1011 tomorro\n",
      "011 tomorrow\n",
      "11 tomorrow.\n",
      "1 tomorrow. \n",
      " tomorrow. 4\n",
      "tomorrow. 41\n",
      "omorrow. 415\n",
      "morrow. 415-\n",
      "orrow. 415-5\n",
      "rrow. 415-55\n",
      "row. 415-555\n",
      "ow. 415-555-\n",
      "w. 415-555-9\n",
      ". 415-555-99\n",
      " 415-555-999\n",
      "415-555-9999\n",
      "Phone number found: 415-555-9999\n",
      "15-555-9999 \n",
      "5-555-9999 i\n",
      "-555-9999 is\n",
      "555-9999 is \n",
      "55-9999 is m\n",
      "5-9999 is my\n",
      "-9999 is my \n",
      "9999 is my o\n",
      "999 is my of\n",
      "99 is my off\n",
      "9 is my offi\n",
      " is my offic\n",
      "is my office\n",
      "s my office.\n",
      " my office.\n",
      "my office.\n",
      "y office.\n",
      " office.\n",
      "office.\n",
      "ffice.\n",
      "fice.\n",
      "ice.\n",
      "ce.\n",
      "e.\n",
      ".\n",
      "Done\n",
      "Is 415-555-4242 a phone number?\n",
      "True\n",
      "Is Moshi moshi a phone number?\n",
      "False\n"
     ]
    }
   ],
   "source": [
    "# Phone number without regex.\n",
    "\n",
    "def isPhoneNumber(text):\n",
    "    if len(text) != 12:\n",
    "         return False\n",
    "    for i in range(0, 3):\n",
    "        if not text[i].isdecimal():\n",
    "             return False\n",
    "    if text[3] != '-':\n",
    "         return False\n",
    "    for i in range(4, 7):\n",
    "        if not text[i].isdecimal():\n",
    "             return False\n",
    "    if text[7] != '-':\n",
    "         return False\n",
    "    for i in range(8, 12):\n",
    "        if not text[i].isdecimal():\n",
    "             return False\n",
    "    return True\n",
    "\n",
    "message = 'Call me at 415-555-1011 tomorrow. 415-555-9999 is my office.'\n",
    "\n",
    "# scans i to i + 12 thus selects 12 character to read.\n",
    "for i in range(len(message)):\n",
    "    chunk = message[i:i+12]\n",
    "    print(chunk)\n",
    "    if isPhoneNumber(chunk):\n",
    "        print('Phone number found: ' + chunk)\n",
    "        \n",
    "print('Done')\n",
    "print('Is 415-555-4242 a phone number?')\n",
    "print(isPhoneNumber('415-555-4242'))\n",
    "print('Is Moshi moshi a phone number?')\n",
    "print(isPhoneNumber('Moshi moshi'))"
   ]
  },
  {
   "cell_type": "code",
   "execution_count": 2,
   "metadata": {},
   "outputs": [
    {
     "name": "stdout",
     "output_type": "stream",
     "text": [
      "Phone number found: 415-555-4242\n"
     ]
    }
   ],
   "source": [
    "# Finding patterns of text with regular expressions\n",
    "# Phone number mays be exteneded with 415-555-4242 x99, previous function does not validate.\n",
    "\n",
    "import re\n",
    "\n",
    "# contains a regex object\n",
    "phoneNumRegex = re.compile(r'\\d\\d\\d-\\d\\d\\d-\\d\\d\\d\\d')\n",
    "\n",
    "# generic name to match objects with \n",
    "mo = phoneNumRegex.search('My Number is 415-555-4242')\n",
    "\n",
    "# knowing it contains a match object and not some None value we call .group()\n",
    "print('Phone number found: ' + mo.group())\n"
   ]
  },
  {
   "cell_type": "code",
   "execution_count": 3,
   "metadata": {},
   "outputs": [
    {
     "name": "stdout",
     "output_type": "stream",
     "text": [
      "415 555-4242\n"
     ]
    }
   ],
   "source": [
    "# Grouping with parentheses\n",
    "# Wish to seperate the area code from the rest of the phone number\n",
    "# Add parentheses to creating groups in the regex (\\d\\d\\d)-(\\d\\d\\d-\\d\\d\\d\\d)\n",
    "# Then use the group() match object method to grab the matching text from just one group\n",
    "\n",
    "import re\n",
    "\n",
    "# matches singular chunks of 3 numbers or 3-4 or both, thus selects multiple chunks\n",
    "phoneNumRegex = re.compile(r'(\\d\\d\\d)-(\\d\\d\\d-\\d\\d\\d\\d)')\n",
    "    \n",
    "mo = phoneNumRegex.search('My number is 415-555-4242')\n",
    "\n",
    "# 1 selects first parentheses\n",
    "mo.group(1) # '415'\n",
    "\n",
    "# 2 selects second parentheses\n",
    "mo.group(2) # '555-4242'\n",
    "\n",
    "# 0 and nothing group entire\n",
    "mo.group(0) # '415-555-4242'\n",
    "mo.group() # '415-555-4242'\n",
    "\n",
    "# select all\n",
    "mo.groups()\n",
    "\n",
    "area, mainNumber = mo.groups()\n",
    "print(area, mainNumber)"
   ]
  },
  {
   "cell_type": "code",
   "execution_count": 4,
   "metadata": {},
   "outputs": [
    {
     "data": {
      "text/plain": [
       "'555-4242'"
      ]
     },
     "execution_count": 4,
     "metadata": {},
     "output_type": "execute_result"
    }
   ],
   "source": [
    "# issue ocurring when having to match parentheses in the text\n",
    "# escape them with a backslash\n",
    "\n",
    "phoneNumRegex = re.compile(r'(\\(\\d\\d\\d\\)) (\\d\\d\\d-\\d\\d\\d\\d)')\n",
    "mo = phoneNumRegex.search('My phone number is (415) 555-4242.')\n",
    "mo.group(1) # '(415)'\n",
    "mo.group(2) # '555-4242'\n"
   ]
  },
  {
   "cell_type": "code",
   "execution_count": 6,
   "metadata": {},
   "outputs": [
    {
     "data": {
      "text/plain": [
       "re.compile(r'(\\(Parentheses\\))', re.UNICODE)"
      ]
     },
     "execution_count": 6,
     "metadata": {},
     "output_type": "execute_result"
    }
   ],
   "source": [
    "# you did not close the first parentheses\n",
    "re.compile(r'(\\(Parentheses\\)') # error"
   ]
  },
  {
   "cell_type": "code",
   "execution_count": 11,
   "metadata": {},
   "outputs": [
    {
     "data": {
      "text/plain": [
       "'mobile'"
      ]
     },
     "execution_count": 11,
     "metadata": {},
     "output_type": "execute_result"
    }
   ],
   "source": [
    "# Matching multiple groups with the pipe\n",
    "# | is a pipe, use it to match one of many expressions\n",
    "\n",
    "heroRegex = re.compile(r'Batman|Tina Fey')\n",
    "\n",
    "\n",
    "# if both are found then the first occurence of one is returned.\n",
    "mo1 = heroRegex.search('Batman and Tina Fey')\n",
    "mo1.group() # batman\n",
    "\n",
    "mo2 = heroRegex.search('Tina fey and Batman')\n",
    "mo2.group() # Tina Fey\n",
    "\n",
    "# match one of several patterns\n",
    "\n",
    "# Bat(man | mobile | copter | bat) Batman / Batmobile / Batcopter\n",
    "batRegex = re.compile(r'Bat(man|mobile|copter|bat)')\n",
    "mo = batRegex.search('Batmobile lost a wheel')\n",
    "mo.group() #'Batmobile'\n",
    "\n",
    "# returns the matched text in the parentheses \n",
    "mo.group(1) #'mobile'\n",
    "\n",
    "# Use the pipe character and group parentheses, can specify several alternative patterns you would like your regex to match\n",
    "# requiring the actual pipe character must backslash break it."
   ]
  },
  {
   "cell_type": "code",
   "execution_count": 12,
   "metadata": {},
   "outputs": [
    {
     "data": {
      "text/plain": [
       "'Batwoman'"
      ]
     },
     "execution_count": 12,
     "metadata": {},
     "output_type": "execute_result"
    }
   ],
   "source": [
    "# Optional matching with the question mark\n",
    "# Sometimes there is a pattern that you want to match only optionally, That is\n",
    "# the regex should find a match regardless of whether that bits of text is there.\n",
    "\n",
    "import re\n",
    "\n",
    "batRegex = re.compile(r'Bat(wo)?man')\n",
    "\n",
    "mo1 = batRegex.search('The Adventures of Batman')\n",
    "\n",
    "mo1.group() # Batman\n",
    "\n",
    "mo2 = batRegex.search('The adventures of Batwoman')\n",
    "mo2.group() # Batwoman \n"
   ]
  },
  {
   "cell_type": "code",
   "execution_count": null,
   "metadata": {},
   "outputs": [],
   "source": []
  }
 ],
 "metadata": {
  "kernelspec": {
   "display_name": "Python 3",
   "language": "python",
   "name": "python3"
  },
  "language_info": {
   "codemirror_mode": {
    "name": "ipython",
    "version": 3
   },
   "file_extension": ".py",
   "mimetype": "text/x-python",
   "name": "python",
   "nbconvert_exporter": "python",
   "pygments_lexer": "ipython3",
   "version": "3.8.3"
  }
 },
 "nbformat": 4,
 "nbformat_minor": 4
}
